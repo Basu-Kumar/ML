{
 "cells": [
  {
   "cell_type": "markdown",
   "id": "10c5efed-667a-4597-a962-fcc1401bccbe",
   "metadata": {},
   "source": [
    "# Introduction to Jupyter Notebook\r\n",
    "\r\n",
    "Jupyter Notebook is an open-source web application that allows you to create and share documents that contain live code, equations, visualizations, and narrative text. It is widely used in data science, machine learning, and scientific computing due to its flexibility and the ability to integrate code and rich text.\r\n",
    "\r\n",
    "## Key Features of Jupyter Notebook:\r\n",
    "- **Interactive Code Execution**: Run code cells and see the output immediately.\r\n",
    "- **Rich Text Support**: Use Markdown to create well-formatted text, including headings, lists, links, and images.\r\n",
    "- **Data Visualization**: Integrate with libraries like Matplotlib and Seaborn to create powerful visualizations directly within the notebook.\r\n",
    "- **Language Support**: Jupyter supports over 40 programming languages, including Python, R, and Julia.\r\n",
    "- **Shareability**: Notebooks can be easily shared via email, GitHub, or as static web pages.\r\n",
    "\r\n",
    "Jupyter Notebooks are a powerful tool for both learning and professional development in computational fields.\r\n"
   ]
  },
  {
   "cell_type": "code",
   "execution_count": 1,
   "id": "0de64a2d-91c1-4089-8653-ac5f55977b31",
   "metadata": {},
   "outputs": [
    {
     "name": "stdout",
     "output_type": "stream",
     "text": [
      "4\n"
     ]
    }
   ],
   "source": [
    "print(2+2)"
   ]
  },
  {
   "cell_type": "markdown",
   "id": "b45e1927-167d-4b43-ad7c-0abcfc12ac6b",
   "metadata": {},
   "source": [
    "## Python\n",
    "Python is a versatile language widely used in various domains, including data science, web development, automation, and more.\n",
    "\n",
    "![Python Logo](https://www.python.org/static/community_logos/python-logo.png)\n",
    "\n",
    "Learn more about Python [here](https://www.python.org)."
   ]
  },
  {
   "cell_type": "markdown",
   "id": "629d645a-137e-46d6-8e32-ed36349caeb0",
   "metadata": {},
   "source": [
    "# My Favorite Programming Languages\n",
    "\n",
    "1. **Python** - Versatile and widely used in data science, web development, automation, and more.\n",
    "2. **JavaScript** - Essential for web development, especially for creating dynamic and interactive web pages.\n",
    "3. **Java** - A powerful language known for its portability and performance, often used in large-scale enterprise applications.\n",
    "4. **C++** - Great for system programming and applications that require high performance.\n",
    "5. **Ruby** - Known for its simplicity and productivity, particularly popular in web development with the Ruby on Rails framework.\n"
   ]
  },
  {
   "cell_type": "code",
   "execution_count": 33,
   "id": "ec153bfb-9ccd-4c56-828b-16bf95d50042",
   "metadata": {},
   "outputs": [],
   "source": [
    "def factorial(n):\n",
    "    \n",
    "    if n < 0:\n",
    "        raise ValueError(\"Factorial is not defined for negative numbers\")\n",
    "    elif n == 0 or n == 1:\n",
    "        return 1\n",
    "    else:\n",
    "        result = 1\n",
    "        for i in range(2, n + 1):\n",
    "            result *= i\n",
    "        return result\n"
   ]
  },
  {
   "cell_type": "code",
   "execution_count": 34,
   "id": "63cd57c0-f328-4f14-94cc-e15994441b1a",
   "metadata": {},
   "outputs": [
    {
     "name": "stdout",
     "output_type": "stream",
     "text": [
      "120\n"
     ]
    }
   ],
   "source": [
    "print(factorial(5))"
   ]
  },
  {
   "cell_type": "code",
   "execution_count": 17,
   "id": "38147829-c65a-47a5-865f-9faa8a47e86d",
   "metadata": {},
   "outputs": [
    {
     "name": "stdout",
     "output_type": "stream",
     "text": [
      "40320\n"
     ]
    }
   ],
   "source": [
    "print(factorial(8))"
   ]
  },
  {
   "cell_type": "code",
   "execution_count": 19,
   "id": "f82cddf5-1dfa-4875-a331-49f6173bde74",
   "metadata": {},
   "outputs": [
    {
     "name": "stdout",
     "output_type": "stream",
     "text": [
      "Mean: 55.0\n",
      "Median: 55.0\n"
     ]
    }
   ],
   "source": [
    "import numpy as np\n",
    "\n",
    "numbers = np.array([10, 20, 30, 40, 50, 60, 70, 80, 90, 100])\n",
    "\n",
    "mean_value = np.mean(numbers)\n",
    "print(\"Mean:\", mean_value)\n",
    "\n",
    "median_value = np.median(numbers)\n",
    "print(\"Median:\", median_value)\n"
   ]
  },
  {
   "cell_type": "code",
   "execution_count": 24,
   "id": "a9bdc5d8-6e27-4d0f-8cca-f5662b589bc6",
   "metadata": {},
   "outputs": [
    {
     "data": {
      "image/png": "[encoded data removed]",
      "text/plain": [
       "<Figure size 1000x600 with 1 Axes>"
      ]
     },
     "metadata": {},
     "output_type": "display_data"
    }
   ],
   "source": [
    "import matplotlib.pyplot as plt\n",
    "\n",
    "import numpy as np\n",
    "\n",
    "# Generating sample data\n",
    "np.random.seed(0)\n",
    "data = np.random.normal(loc=0, scale=1, size=1000)\n",
    "\n",
    "# Create a Histogram Using Matplotlib\n",
    "plt.figure(figsize=(10, 6))\n",
    "plt.hist(data, bins=30, color='blue', alpha=0.7, edgecolor='black')\n",
    "plt.title('Histogram of Normally Distributed Data')\n",
    "plt.xlabel('Value')\n",
    "plt.ylabel('Frequency')\n",
    "plt.grid(True)\n",
    "plt.show()\n",
    "\n",
    "\n"
   ]
  },
  {
   "cell_type": "markdown",
   "id": "46321024-3ca7-4286-8362-c3bce46c9fbd",
   "metadata": {},
   "source": [
    "In Jupyter Notebooks, a **kernel** is the computational engine that executes the code contained in your notebook cells. Each notebook is connected to a kernel, and all the code you run is executed by this kernel.\n",
    "\n",
    "## Key Points about Kernels\n",
    "\n",
    "1. **Starting a Kernel**:\n",
    "   - When you open a new notebook, a kernel starts automatically in the background.\n",
    "   - The kernel is associated with a specific programming language (e.g., Python, R, Julia).\n",
    "\n",
    "2. **Running Code**:\n",
    "   - When you run a cell, the code is sent to the kernel for execution.\n",
    "   - The kernel processes the code and returns the output, which is then displayed in the notebook.\n",
    "\n",
    "3. **Interrupting and Restarting Kernels**:\n",
    "   - If the code is taking too long to execute, you can interrupt the kernel using `Kernel > Interrupt Kernel`.\n",
    "   - To clear all variables and restart the environment, use `Kernel > Restart Kernel`.\n",
    "\n",
    "4. **Changing Kernels**:\n",
    "   - You can change the kernel (programming language) of a notebook by selecting `Kernel > Change Kernel`.\n",
    "\n",
    "5. **Multiple Kernels**:\n",
    "   - Jupyter supports multiple kernels, allowing you to work with different programming languages in different notebooks.\n",
    "   - To list all available kernels, us\n"
   ]
  },
  {
   "cell_type": "markdown",
   "id": "b84f168c-6d0f-4778-8b7b-6f8d28a24968",
   "metadata": {},
   "source": [
    "# Exporting Jupyter Notebooks: File Formats Overviews:\r\n",
    "\r\n",
    "## 1. **PDF (.pdf)**\r\n",
    "   - **Usage**: Ideal for sharing a static, read-only version of your notebook.\r\n",
    "   - **How to Export**: \r\n",
    "     - Go to `File > Download as > PDF via LaTeX (.pdf)`.\r\n",
    "     - Note: This may require LaTeX installation on your system.\r\n",
    "\r\n",
    "## 2. **HTML (.html)**\r\n",
    "   - **Usage**: Suitable for sharing interactive notebooks via web pages.\r\n",
    "   - **How to Export**: \r\n",
    "     - Go to `File > Download as > HTML (.html)`.\r\n",
    "     - You can open the exported HTML file in any web browser.\r\n",
    "\r\n",
    "## 3. **Markdown (.md)**\r\n",
    "   - **Usage**: Useful for converting notebooks into Markdown format, which can be used in documentation or blogs.\r\n",
    "   - **How to Export**: \r\n",
    "     - Go to `File > Download as > Markdown (.md)`.\r\n",
    "     - The exported file includes the notebook content in Markdown format, with images and plots saved separately.\r\n",
    "\r\n",
    "## 4. **Notebook (.ipynb)**\r\n",
    "   - **Usage**: The default Jupyter Notebook format, ideal for sharing notebooks that can be re-executed or modified by others.\r\n",
    "   - **How to Export**: \r\n",
    "     - Go to `File > Download as > Notebook (.ipynb)`.\r\n",
    "\r\n",
    "## 5. **Python Script (.py)**\r\n",
    "   - **Usage**: Converts the notebook into a Python script, which is useful for running the code outside of Jupyter.\r\n",
    "   - **How to Export**: \r\n",
    "     - Go to `File > Download as > Python (.py)`.\r\n",
    "\r\n",
    "## 6. **Slides (.slides.html)**\r\n",
    "   - **Usage**: Creates a slideshow presentation from the notebook, which can be useful for teaching or presenting.\r\n",
    "   - **How to Export**:\r\n",
    "     - Go to `File > Download as > Reveal.js slides (.slides.html)`.\r\n",
    "     - The slides can be viewed in a web browser and presented directly.\r\n",
    "\r\n",
    "## 7. **LaTeX (.tex)**\r\n",
    "   - **Usage**: Exports the notebook in LaTeX format, suitable for generating high-quality typeset documents.\r\n",
    "   - **How to Export**: \r\n",
    "     - G way that best suits your audience and purpose.\r\n"
   ]
  },
  {
   "cell_type": "markdown",
   "id": "3dce6fd8-177e-409d-a07d-83586fe6c33b",
   "metadata": {},
   "source": [
    "# Interactive Widgets in Jupyter Notebooks\r\n",
    "\r\n",
    "Interactive widgets in Jupyter Notebooks allow you to create interactive elements within your notebook, enhancing the user experience and enabling dynamic data exploration. These widgets can be used to build interactive user interfaces and visualizations directly in the notebook.\r\n",
    "\r\n",
    "## Common Widgets and Their Purposes\r\n",
    "\r\n",
    "### 1. **Slider**\r\n",
    "   - **Purpose**: Allows users to select a numeric value within a specified range by sliding a bar.\r\n",
    "   - **Example**: Adjusting parameters for a function or model.\r\n",
    "   - **Code Example**:\r\n",
    "     ```python\r\n",
    "     from ipywidgets import interact, widgets\r\n",
    "\r\n",
    "     @interact(x=widgets.IntSlider(min=0, max=10, step=1, value=5))\r\n",
    "     def f(x):\r\n",
    "         return x\r\n",
    "     ```\r\n",
    "\r\n",
    "### 2. **Dropdown**\r\n",
    "   - **Purpose**: Provides a menu with a list of options for users to choose from.\r\n",
    "   - **Example**: Selecting different categories or variables.\r\n",
    "   - **Code Example**:\r\n",
    "     ```python\r\n",
    "     @interact(option=widgets.Dropdown(options=['Option 1', 'Option 2', 'Option 3'], value='Option 1'))\r\n",
    "     def f(option):\r\n",
    "         return option\r\n",
    "     ```\r\n",
    "\r\n",
    "### 3. **Checkbox**\r\n",
    "   - **Purpose**: Allows users to select one or more options by checking boxes.\r\n",
    "   - **Example**: Enabling or disabling features or options.\r\n",
    "   - **Code Example**:\r\n",
    "     ```python\r\n",
    "     @interact(flag=widgets.Checkbox(value=False, description='Check me'))\r\n",
    "     def f(flag):\r\n",
    "         return flag\r\n",
    "     ```\r\n",
    "\r\n",
    "### 4. **Text Box**\r\n",
    "   - **Purpose**: Lets users input text data.\r\n",
    "   - **Example**: Entering names, titles, or other textual information.\r\n",
    "   - **Code Example**:\r\n",
    "     ```python\r\n",
    "     @interact(text=widgets.Text(value='Hello', description='Text:'))\r\n",
    "     def f(text):\r\n",
    "         return text\r\n",
    "     ```\r\n",
    "\r\n",
    "### 5. **Radio Buttons**\r\n",
    "   - **Purpose**: Provides a set of options where only one option can be selected at a time.\r\n",
    "   - **Example**: Choosing between different categories or modes.\r\n",
    "   - **Code Example**:\r\n",
    "     ```python\r\n",
    "     @interact(option=widgets.RadioButtons(options=['Option A', 'Option B', 'Option C'], value='Option A'))\r\n",
    "     def f(option):\r\n",
    "         return option\r\n",
    "     ```\r\n",
    "\r\n",
    "### 6. **Button**\r\n",
    "   - **Purpose**: Triggers a specific action when clicked.\r\n",
    "   - **Example**: Executing a function or refreshing data.\r\n",
    "   - **Code Example**:\r\n",
    "     ```python\r\n",
    "     from IPython.display import display\r\n",
    "\r\n",
    "     button = widgets.Button(description=\"Click Me!\")\r\n",
    "     display(button)\r\n",
    "\r\n",
    "     def on_button_clicked(b):\r\n",
    "         print(\"Button clicked!\")\r\n",
    "\r\n",
    "     button.on_click(on_button_clicked)\r\n",
    "     ```\r\n",
    "\r\n",
    "## Installing and Using Widgets\r\n",
    "- **Installation**: To use interactive widgets, you need to install the `ipywidgets` package:\r\n",
    "  ```bash\r\n",
    "  pip install ipywidgets\r\n"
   ]
  },
  {
   "cell_type": "code",
   "execution_count": 32,
   "id": "419abe42-f83a-4354-b726-159a4daaea26",
   "metadata": {},
   "outputs": [
    {
     "name": "stdout",
     "output_type": "stream",
     "text": [
      "Requirement already satisfied: ipywidgets in c:\\users\\basu tulasyan\\anaconda3\\lib\\site-packages (7.8.1)\n",
      "Requirement already satisfied: comm>=0.1.3 in c:\\users\\basu tulasyan\\anaconda3\\lib\\site-packages (from ipywidgets) (0.2.1)\n",
      "Requirement already satisfied: ipython-genutils~=0.2.0 in c:\\users\\basu tulasyan\\anaconda3\\lib\\site-packages (from ipywidgets) (0.2.0)\n",
      "Requirement already satisfied: traitlets>=4.3.1 in c:\\users\\basu tulasyan\\anaconda3\\lib\\site-packages (from ipywidgets) (5.14.3)\n",
      "Requirement already satisfied: widgetsnbextension~=3.6.6 in c:\\users\\basu tulasyan\\anaconda3\\lib\\site-packages (from ipywidgets) (3.6.6)\n",
      "Requirement already satisfied: ipython>=4.0.0 in c:\\users\\basu tulasyan\\anaconda3\\lib\\site-packages (from ipywidgets) (8.25.0)\n",
      "Requirement already satisfied: jupyterlab-widgets<3,>=1.0.0 in c:\\users\\basu tulasyan\\anaconda3\\lib\\site-packages (from ipywidgets) (1.0.0)\n",
      "Requirement already satisfied: decorator in c:\\users\\basu tulasyan\\anaconda3\\lib\\site-packages (from ipython>=4.0.0->ipywidgets) (5.1.1)\n",
      "Requirement already satisfied: jedi>=0.16 in c:\\users\\basu tulasyan\\anaconda3\\lib\\site-packages (from ipython>=4.0.0->ipywidgets) (0.18.1)\n",
      "Requirement already satisfied: matplotlib-inline in c:\\users\\basu tulasyan\\anaconda3\\lib\\site-packages (from ipython>=4.0.0->ipywidgets) (0.1.6)\n",
      "Requirement already satisfied: prompt-toolkit<3.1.0,>=3.0.41 in c:\\users\\basu tulasyan\\anaconda3\\lib\\site-packages (from ipython>=4.0.0->ipywidgets) (3.0.43)\n",
      "Requirement already satisfied: pygments>=2.4.0 in c:\\users\\basu tulasyan\\anaconda3\\lib\\site-packages (from ipython>=4.0.0->ipywidgets) (2.15.1)\n",
      "Requirement already satisfied: stack-data in c:\\users\\basu tulasyan\\anaconda3\\lib\\site-packages (from ipython>=4.0.0->ipywidgets) (0.2.0)\n",
      "Requirement already satisfied: colorama in c:\\users\\basu tulasyan\\anaconda3\\lib\\site-packages (from ipython>=4.0.0->ipywidgets) (0.4.6)\n",
      "Requirement already satisfied: notebook>=4.4.1 in c:\\users\\basu tulasyan\\anaconda3\\lib\\site-packages (from widgetsnbextension~=3.6.6->ipywidgets) (7.0.8)\n",
      "Requirement already satisfied: parso<0.9.0,>=0.8.0 in c:\\users\\basu tulasyan\\anaconda3\\lib\\site-packages (from jedi>=0.16->ipython>=4.0.0->ipywidgets) (0.8.3)\n",
      "Requirement already satisfied: jupyter-server<3,>=2.4.0 in c:\\users\\basu tulasyan\\anaconda3\\lib\\site-packages (from notebook>=4.4.1->widgetsnbextension~=3.6.6->ipywidgets) (2.14.1)\n",
      "Requirement already satisfied: jupyterlab-server<3,>=2.22.1 in c:\\users\\basu tulasyan\\anaconda3\\lib\\site-packages (from notebook>=4.4.1->widgetsnbextension~=3.6.6->ipywidgets) (2.25.1)\n",
      "Requirement already satisfied: jupyterlab<4.1,>=4.0.2 in c:\\users\\basu tulasyan\\anaconda3\\lib\\site-packages (from notebook>=4.4.1->widgetsnbextension~=3.6.6->ipywidgets) (4.0.11)\n",
      "Requirement already satisfied: notebook-shim<0.3,>=0.2 in c:\\users\\basu tulasyan\\anaconda3\\lib\\site-packages (from notebook>=4.4.1->widgetsnbextension~=3.6.6->ipywidgets) (0.2.3)\n",
      "Requirement already satisfied: tornado>=6.2.0 in c:\\users\\basu tulasyan\\anaconda3\\lib\\site-packages (from notebook>=4.4.1->widgetsnbextension~=3.6.6->ipywidgets) (6.4.1)\n",
      "Requirement already satisfied: wcwidth in c:\\users\\basu tulasyan\\anaconda3\\lib\\site-packages (from prompt-toolkit<3.1.0,>=3.0.41->ipython>=4.0.0->ipywidgets) (0.2.5)\n",
      "Requirement already satisfied: executing in c:\\users\\basu tulasyan\\anaconda3\\lib\\site-packages (from stack-data->ipython>=4.0.0->ipywidgets) (0.8.3)\n",
      "Requirement already satisfied: asttokens in c:\\users\\basu tulasyan\\anaconda3\\lib\\site-packages (from stack-data->ipython>=4.0.0->ipywidgets) (2.0.5)\n",
      "Requirement already satisfied: pure-eval in c:\\users\\basu tulasyan\\anaconda3\\lib\\site-packages (from stack-data->ipython>=4.0.0->ipywidgets) (0.2.2)\n",
      "Requirement already satisfied: anyio>=3.1.0 in c:\\users\\basu tulasyan\\anaconda3\\lib\\site-packages (from jupyter-server<3,>=2.4.0->notebook>=4.4.1->widgetsnbextension~=3.6.6->ipywidgets) (4.2.0)\n",
      "Requirement already satisfied: argon2-cffi>=21.1 in c:\\users\\basu tulasyan\\anaconda3\\lib\\site-packages (from jupyter-server<3,>=2.4.0->notebook>=4.4.1->widgetsnbextension~=3.6.6->ipywidgets) (21.3.0)\n",
      "Requirement already satisfied: jinja2>=3.0.3 in c:\\users\\basu tulasyan\\anaconda3\\lib\\site-packages (from jupyter-server<3,>=2.4.0->notebook>=4.4.1->widgetsnbextension~=3.6.6->ipywidgets) (3.1.4)\n",
      "Requirement already satisfied: jupyter-client>=7.4.4 in c:\\users\\basu tulasyan\\anaconda3\\lib\\site-packages (from jupyter-server<3,>=2.4.0->notebook>=4.4.1->widgetsnbextension~=3.6.6->ipywidgets) (8.6.0)\n",
      "Requirement already satisfied: jupyter-core!=5.0.*,>=4.12 in c:\\users\\basu tulasyan\\anaconda3\\lib\\site-packages (from jupyter-server<3,>=2.4.0->notebook>=4.4.1->widgetsnbextension~=3.6.6->ipywidgets) (5.7.2)\n",
      "Requirement already satisfied: jupyter-events>=0.9.0 in c:\\users\\basu tulasyan\\anaconda3\\lib\\site-packages (from jupyter-server<3,>=2.4.0->notebook>=4.4.1->widgetsnbextension~=3.6.6->ipywidgets) (0.10.0)\n",
      "Requirement already satisfied: jupyter-server-terminals>=0.4.4 in c:\\users\\basu tulasyan\\anaconda3\\lib\\site-packages (from jupyter-server<3,>=2.4.0->notebook>=4.4.1->widgetsnbextension~=3.6.6->ipywidgets) (0.4.4)\n",
      "Requirement already satisfied: nbconvert>=6.4.4 in c:\\users\\basu tulasyan\\anaconda3\\lib\\site-packages (from jupyter-server<3,>=2.4.0->notebook>=4.4.1->widgetsnbextension~=3.6.6->ipywidgets) (7.10.0)\n",
      "Requirement already satisfied: nbformat>=5.3.0 in c:\\users\\basu tulasyan\\anaconda3\\lib\\site-packages (from jupyter-server<3,>=2.4.0->notebook>=4.4.1->widgetsnbextension~=3.6.6->ipywidgets) (5.9.2)\n",
      "Requirement already satisfied: overrides>=5.0 in c:\\users\\basu tulasyan\\anaconda3\\lib\\site-packages (from jupyter-server<3,>=2.4.0->notebook>=4.4.1->widgetsnbextension~=3.6.6->ipywidgets) (7.4.0)\n",
      "Requirement already satisfied: packaging>=22.0 in c:\\users\\basu tulasyan\\anaconda3\\lib\\site-packages (from jupyter-server<3,>=2.4.0->notebook>=4.4.1->widgetsnbextension~=3.6.6->ipywidgets) (23.2)\n",
      "Requirement already satisfied: prometheus-client>=0.9 in c:\\users\\basu tulasyan\\anaconda3\\lib\\site-packages (from jupyter-server<3,>=2.4.0->notebook>=4.4.1->widgetsnbextension~=3.6.6->ipywidgets) (0.14.1)\n",
      "Requirement already satisfied: pywinpty>=2.0.1 in c:\\users\\basu tulasyan\\anaconda3\\lib\\site-packages (from jupyter-server<3,>=2.4.0->notebook>=4.4.1->widgetsnbextension~=3.6.6->ipywidgets) (2.0.10)\n",
      "Requirement already satisfied: pyzmq>=24 in c:\\users\\basu tulasyan\\anaconda3\\lib\\site-packages (from jupyter-server<3,>=2.4.0->notebook>=4.4.1->widgetsnbextension~=3.6.6->ipywidgets) (25.1.2)\n",
      "Requirement already satisfied: send2trash>=1.8.2 in c:\\users\\basu tulasyan\\anaconda3\\lib\\site-packages (from jupyter-server<3,>=2.4.0->notebook>=4.4.1->widgetsnbextension~=3.6.6->ipywidgets) (1.8.2)\n",
      "Requirement already satisfied: terminado>=0.8.3 in c:\\users\\basu tulasyan\\anaconda3\\lib\\site-packages (from jupyter-server<3,>=2.4.0->notebook>=4.4.1->widgetsnbextension~=3.6.6->ipywidgets) (0.17.1)\n",
      "Requirement already satisfied: websocket-client>=1.7 in c:\\users\\basu tulasyan\\anaconda3\\lib\\site-packages (from jupyter-server<3,>=2.4.0->notebook>=4.4.1->widgetsnbextension~=3.6.6->ipywidgets) (1.8.0)\n",
      "Requirement already satisfied: async-lru>=1.0.0 in c:\\users\\basu tulasyan\\anaconda3\\lib\\site-packages (from jupyterlab<4.1,>=4.0.2->notebook>=4.4.1->widgetsnbextension~=3.6.6->ipywidgets) (2.0.4)\n",
      "Requirement already satisfied: ipykernel in c:\\users\\basu tulasyan\\anaconda3\\lib\\site-packages (from jupyterlab<4.1,>=4.0.2->notebook>=4.4.1->widgetsnbextension~=3.6.6->ipywidgets) (6.28.0)\n",
      "Requirement already satisfied: jupyter-lsp>=2.0.0 in c:\\users\\basu tulasyan\\anaconda3\\lib\\site-packages (from jupyterlab<4.1,>=4.0.2->notebook>=4.4.1->widgetsnbextension~=3.6.6->ipywidgets) (2.2.0)\n",
      "Requirement already satisfied: babel>=2.10 in c:\\users\\basu tulasyan\\anaconda3\\lib\\site-packages (from jupyterlab-server<3,>=2.22.1->notebook>=4.4.1->widgetsnbextension~=3.6.6->ipywidgets) (2.11.0)\n",
      "Requirement already satisfied: json5>=0.9.0 in c:\\users\\basu tulasyan\\anaconda3\\lib\\site-packages (from jupyterlab-server<3,>=2.22.1->notebook>=4.4.1->widgetsnbextension~=3.6.6->ipywidgets) (0.9.6)\n",
      "Requirement already satisfied: jsonschema>=4.18.0 in c:\\users\\basu tulasyan\\anaconda3\\lib\\site-packages (from jupyterlab-server<3,>=2.22.1->notebook>=4.4.1->widgetsnbextension~=3.6.6->ipywidgets) (4.19.2)\n",
      "Requirement already satisfied: requests>=2.31 in c:\\users\\basu tulasyan\\anaconda3\\lib\\site-packages (from jupyterlab-server<3,>=2.22.1->notebook>=4.4.1->widgetsnbextension~=3.6.6->ipywidgets) (2.32.2)\n",
      "Requirement already satisfied: six in c:\\users\\basu tulasyan\\anaconda3\\lib\\site-packages (from asttokens->stack-data->ipython>=4.0.0->ipywidgets) (1.16.0)\n",
      "Requirement already satisfied: idna>=2.8 in c:\\users\\basu tulasyan\\anaconda3\\lib\\site-packages (from anyio>=3.1.0->jupyter-server<3,>=2.4.0->notebook>=4.4.1->widgetsnbextension~=3.6.6->ipywidgets) (3.7)\n",
      "Requirement already satisfied: sniffio>=1.1 in c:\\users\\basu tulasyan\\anaconda3\\lib\\site-packages (from anyio>=3.1.0->jupyter-server<3,>=2.4.0->notebook>=4.4.1->widgetsnbextension~=3.6.6->ipywidgets) (1.3.0)\n",
      "Requirement already satisfied: argon2-cffi-bindings in c:\\users\\basu tulasyan\\anaconda3\\lib\\site-packages (from argon2-cffi>=21.1->jupyter-server<3,>=2.4.0->notebook>=4.4.1->widgetsnbextension~=3.6.6->ipywidgets) (21.2.0)\n",
      "Requirement already satisfied: pytz>=2015.7 in c:\\users\\basu tulasyan\\anaconda3\\lib\\site-packages (from babel>=2.10->jupyterlab-server<3,>=2.22.1->notebook>=4.4.1->widgetsnbextension~=3.6.6->ipywidgets) (2024.1)\n",
      "Requirement already satisfied: MarkupSafe>=2.0 in c:\\users\\basu tulasyan\\anaconda3\\lib\\site-packages (from jinja2>=3.0.3->jupyter-server<3,>=2.4.0->notebook>=4.4.1->widgetsnbextension~=3.6.6->ipywidgets) (2.1.3)\n",
      "Requirement already satisfied: attrs>=22.2.0 in c:\\users\\basu tulasyan\\anaconda3\\lib\\site-packages (from jsonschema>=4.18.0->jupyterlab-server<3,>=2.22.1->notebook>=4.4.1->widgetsnbextension~=3.6.6->ipywidgets) (23.1.0)\n",
      "Requirement already satisfied: jsonschema-specifications>=2023.03.6 in c:\\users\\basu tulasyan\\anaconda3\\lib\\site-packages (from jsonschema>=4.18.0->jupyterlab-server<3,>=2.22.1->notebook>=4.4.1->widgetsnbextension~=3.6.6->ipywidgets) (2023.7.1)\n",
      "Requirement already satisfied: referencing>=0.28.4 in c:\\users\\basu tulasyan\\anaconda3\\lib\\site-packages (from jsonschema>=4.18.0->jupyterlab-server<3,>=2.22.1->notebook>=4.4.1->widgetsnbextension~=3.6.6->ipywidgets) (0.30.2)\n",
      "Requirement already satisfied: rpds-py>=0.7.1 in c:\\users\\basu tulasyan\\anaconda3\\lib\\site-packages (from jsonschema>=4.18.0->jupyterlab-server<3,>=2.22.1->notebook>=4.4.1->widgetsnbextension~=3.6.6->ipywidgets) (0.10.6)\n",
      "Requirement already satisfied: python-dateutil>=2.8.2 in c:\\users\\basu tulasyan\\anaconda3\\lib\\site-packages (from jupyter-client>=7.4.4->jupyter-server<3,>=2.4.0->notebook>=4.4.1->widgetsnbextension~=3.6.6->ipywidgets) (2.9.0.post0)\n",
      "Requirement already satisfied: platformdirs>=2.5 in c:\\users\\basu tulasyan\\anaconda3\\lib\\site-packages (from jupyter-core!=5.0.*,>=4.12->jupyter-server<3,>=2.4.0->notebook>=4.4.1->widgetsnbextension~=3.6.6->ipywidgets) (3.10.0)\n",
      "Requirement already satisfied: pywin32>=300 in c:\\users\\basu tulasyan\\anaconda3\\lib\\site-packages (from jupyter-core!=5.0.*,>=4.12->jupyter-server<3,>=2.4.0->notebook>=4.4.1->widgetsnbextension~=3.6.6->ipywidgets) (305.1)\n",
      "Requirement already satisfied: python-json-logger>=2.0.4 in c:\\users\\basu tulasyan\\anaconda3\\lib\\site-packages (from jupyter-events>=0.9.0->jupyter-server<3,>=2.4.0->notebook>=4.4.1->widgetsnbextension~=3.6.6->ipywidgets) (2.0.7)\n",
      "Requirement already satisfied: pyyaml>=5.3 in c:\\users\\basu tulasyan\\anaconda3\\lib\\site-packages (from jupyter-events>=0.9.0->jupyter-server<3,>=2.4.0->notebook>=4.4.1->widgetsnbextension~=3.6.6->ipywidgets) (6.0.1)\n",
      "Requirement already satisfied: rfc3339-validator in c:\\users\\basu tulasyan\\anaconda3\\lib\\site-packages (from jupyter-events>=0.9.0->jupyter-server<3,>=2.4.0->notebook>=4.4.1->widgetsnbextension~=3.6.6->ipywidgets) (0.1.4)\n",
      "Requirement already satisfied: rfc3986-validator>=0.1.1 in c:\\users\\basu tulasyan\\anaconda3\\lib\\site-packages (from jupyter-events>=0.9.0->jupyter-server<3,>=2.4.0->notebook>=4.4.1->widgetsnbextension~=3.6.6->ipywidgets) (0.1.1)\n",
      "Requirement already satisfied: beautifulsoup4 in c:\\users\\basu tulasyan\\anaconda3\\lib\\site-packages (from nbconvert>=6.4.4->jupyter-server<3,>=2.4.0->notebook>=4.4.1->widgetsnbextension~=3.6.6->ipywidgets) (4.12.3)\n",
      "Requirement already satisfied: bleach!=5.0.0 in c:\\users\\basu tulasyan\\anaconda3\\lib\\site-packages (from nbconvert>=6.4.4->jupyter-server<3,>=2.4.0->notebook>=4.4.1->widgetsnbextension~=3.6.6->ipywidgets) (4.1.0)\n",
      "Requirement already satisfied: defusedxml in c:\\users\\basu tulasyan\\anaconda3\\lib\\site-packages (from nbconvert>=6.4.4->jupyter-server<3,>=2.4.0->notebook>=4.4.1->widgetsnbextension~=3.6.6->ipywidgets) (0.7.1)\n",
      "Requirement already satisfied: jupyterlab-pygments in c:\\users\\basu tulasyan\\anaconda3\\lib\\site-packages (from nbconvert>=6.4.4->jupyter-server<3,>=2.4.0->notebook>=4.4.1->widgetsnbextension~=3.6.6->ipywidgets) (0.1.2)\n",
      "Requirement already satisfied: mistune<4,>=2.0.3 in c:\\users\\basu tulasyan\\anaconda3\\lib\\site-packages (from nbconvert>=6.4.4->jupyter-server<3,>=2.4.0->notebook>=4.4.1->widgetsnbextension~=3.6.6->ipywidgets) (2.0.4)\n",
      "Requirement already satisfied: nbclient>=0.5.0 in c:\\users\\basu tulasyan\\anaconda3\\lib\\site-packages (from nbconvert>=6.4.4->jupyter-server<3,>=2.4.0->notebook>=4.4.1->widgetsnbextension~=3.6.6->ipywidgets) (0.8.0)\n",
      "Requirement already satisfied: pandocfilters>=1.4.1 in c:\\users\\basu tulasyan\\anaconda3\\lib\\site-packages (from nbconvert>=6.4.4->jupyter-server<3,>=2.4.0->notebook>=4.4.1->widgetsnbextension~=3.6.6->ipywidgets) (1.5.0)\n",
      "Requirement already satisfied: tinycss2 in c:\\users\\basu tulasyan\\anaconda3\\lib\\site-packages (from nbconvert>=6.4.4->jupyter-server<3,>=2.4.0->notebook>=4.4.1->widgetsnbextension~=3.6.6->ipywidgets) (1.2.1)\n",
      "Requirement already satisfied: fastjsonschema in c:\\users\\basu tulasyan\\anaconda3\\lib\\site-packages (from nbformat>=5.3.0->jupyter-server<3,>=2.4.0->notebook>=4.4.1->widgetsnbextension~=3.6.6->ipywidgets) (2.16.2)\n",
      "Requirement already satisfied: charset-normalizer<4,>=2 in c:\\users\\basu tulasyan\\anaconda3\\lib\\site-packages (from requests>=2.31->jupyterlab-server<3,>=2.22.1->notebook>=4.4.1->widgetsnbextension~=3.6.6->ipywidgets) (2.0.4)\n",
      "Requirement already satisfied: urllib3<3,>=1.21.1 in c:\\users\\basu tulasyan\\anaconda3\\lib\\site-packages (from requests>=2.31->jupyterlab-server<3,>=2.22.1->notebook>=4.4.1->widgetsnbextension~=3.6.6->ipywidgets) (2.2.2)\n",
      "Requirement already satisfied: certifi>=2017.4.17 in c:\\users\\basu tulasyan\\anaconda3\\lib\\site-packages (from requests>=2.31->jupyterlab-server<3,>=2.22.1->notebook>=4.4.1->widgetsnbextension~=3.6.6->ipywidgets) (2024.7.4)\n",
      "Requirement already satisfied: debugpy>=1.6.5 in c:\\users\\basu tulasyan\\anaconda3\\lib\\site-packages (from ipykernel->jupyterlab<4.1,>=4.0.2->notebook>=4.4.1->widgetsnbextension~=3.6.6->ipywidgets) (1.6.7)\n",
      "Requirement already satisfied: nest-asyncio in c:\\users\\basu tulasyan\\anaconda3\\lib\\site-packages (from ipykernel->jupyterlab<4.1,>=4.0.2->notebook>=4.4.1->widgetsnbextension~=3.6.6->ipywidgets) (1.6.0)\n",
      "Requirement already satisfied: psutil in c:\\users\\basu tulasyan\\anaconda3\\lib\\site-packages (from ipykernel->jupyterlab<4.1,>=4.0.2->notebook>=4.4.1->widgetsnbextension~=3.6.6->ipywidgets) (5.9.0)\n",
      "Requirement already satisfied: webencodings in c:\\users\\basu tulasyan\\anaconda3\\lib\\site-packages (from bleach!=5.0.0->nbconvert>=6.4.4->jupyter-server<3,>=2.4.0->notebook>=4.4.1->widgetsnbextension~=3.6.6->ipywidgets) (0.5.1)\n",
      "Requirement already satisfied: fqdn in c:\\users\\basu tulasyan\\anaconda3\\lib\\site-packages (from jsonschema[format-nongpl]>=4.18.0->jupyter-events>=0.9.0->jupyter-server<3,>=2.4.0->notebook>=4.4.1->widgetsnbextension~=3.6.6->ipywidgets) (1.5.1)\n",
      "Requirement already satisfied: isoduration in c:\\users\\basu tulasyan\\anaconda3\\lib\\site-packages (from jsonschema[format-nongpl]>=4.18.0->jupyter-events>=0.9.0->jupyter-server<3,>=2.4.0->notebook>=4.4.1->widgetsnbextension~=3.6.6->ipywidgets) (20.11.0)\n",
      "Requirement already satisfied: jsonpointer>1.13 in c:\\users\\basu tulasyan\\anaconda3\\lib\\site-packages (from jsonschema[format-nongpl]>=4.18.0->jupyter-events>=0.9.0->jupyter-server<3,>=2.4.0->notebook>=4.4.1->widgetsnbextension~=3.6.6->ipywidgets) (2.1)\n",
      "Requirement already satisfied: uri-template in c:\\users\\basu tulasyan\\anaconda3\\lib\\site-packages (from jsonschema[format-nongpl]>=4.18.0->jupyter-events>=0.9.0->jupyter-server<3,>=2.4.0->notebook>=4.4.1->widgetsnbextension~=3.6.6->ipywidgets) (1.3.0)\n",
      "Requirement already satisfied: webcolors>=1.11 in c:\\users\\basu tulasyan\\anaconda3\\lib\\site-packages (from jsonschema[format-nongpl]>=4.18.0->jupyter-events>=0.9.0->jupyter-server<3,>=2.4.0->notebook>=4.4.1->widgetsnbextension~=3.6.6->ipywidgets) (24.6.0)\n",
      "Requirement already satisfied: cffi>=1.0.1 in c:\\users\\basu tulasyan\\anaconda3\\lib\\site-packages (from argon2-cffi-bindings->argon2-cffi>=21.1->jupyter-server<3,>=2.4.0->notebook>=4.4.1->widgetsnbextension~=3.6.6->ipywidgets) (1.16.0)\n",
      "Requirement already satisfied: soupsieve>1.2 in c:\\users\\basu tulasyan\\anaconda3\\lib\\site-packages (from beautifulsoup4->nbconvert>=6.4.4->jupyter-server<3,>=2.4.0->notebook>=4.4.1->widgetsnbextension~=3.6.6->ipywidgets) (2.5)\n",
      "Requirement already satisfied: pycparser in c:\\users\\basu tulasyan\\anaconda3\\lib\\site-packages (from cffi>=1.0.1->argon2-cffi-bindings->argon2-cffi>=21.1->jupyter-server<3,>=2.4.0->notebook>=4.4.1->widgetsnbextension~=3.6.6->ipywidgets) (2.21)\n",
      "Requirement already satisfied: arrow>=0.15.0 in c:\\users\\basu tulasyan\\anaconda3\\lib\\site-packages (from isoduration->jsonschema[format-nongpl]>=4.18.0->jupyter-events>=0.9.0->jupyter-server<3,>=2.4.0->notebook>=4.4.1->widgetsnbextension~=3.6.6->ipywidgets) (1.2.3)\n",
      "Note: you may need to restart the kernel to use updated packages.\n"
     ]
    }
   ],
   "source": [
    "pip install ipywidgets"
   ]
  },
  {
   "cell_type": "code",
   "execution_count": 44,
   "id": "91a45c09-ab93-4c06-956e-134415cab043",
   "metadata": {},
   "outputs": [
    {
     "data": {
      "application/vnd.jupyter.widget-view+json": {
       "model_id": "047bebe6b0ee487eab614d832e624cac",
       "version_major": 2,
       "version_minor": 0
      },
      "text/plain": [
       "IntSlider(value=5, description='Value:', max=10, style=SliderStyle(description_width='initial'))"
      ]
     },
     "metadata": {},
     "output_type": "display_data"
    }
   ],
   "source": [
    "import ipywidgets as widgets\n",
    "from IPython.display import display\n",
    "\n",
    "\n",
    "slider = widgets.IntSlider(\n",
    "    value=5,  # Initial value\n",
    "    min=0,    # Minimum value\n",
    "    max=10,   # Maximum value\n",
    "    step=1,    # Step size\n",
    "    description='Value:',  # Label for the slider\n",
    "    style={'description_width': 'initial'}  # Adjust label width\n",
    ")\n",
    "\n",
    "def on_slider_change(change):\n",
    "    print(f'Slider value: {change[\"new\"]}')\n",
    "\n",
    "slider.observe(on_slider_change, names='value')\n",
    "\n",
    "display(slider)\n"
   ]
  },
  {
   "cell_type": "code",
   "execution_count": null,
   "id": "a8d31584-dc17-48a6-b465-9b7c66a0a8db",
   "metadata": {},
   "outputs": [],
   "source": [
    "pip install jupyter_contrib_nbextensions\n",
    "jupyter contrib nbextension install --user\n",
    "pip install jupyter_nbextensions_configurator\n",
    "jupyter nbextensions_configurator enable --user\n"
   ]
  },
  {
   "cell_type": "markdown",
   "id": "42a1a1fd-8bf7-4f80-b147-e9c1df926f9a",
   "metadata": {},
   "source": [
    "# `jupyter_contrib_nbextensions` Overview\r\n",
    "\r\n",
    "`jupyter_contrib_nbextensions` is a collection of community-contributed extensions for Jupyter Notebooks. These extensions enhance the functionality and usability of Jupyter Notebooks by adding new features and tools. \r\n",
    "\r\n",
    "## Key Features\r\n",
    "\r\n",
    "- **Rich Set of Extensions**: Provides a variety of extensions that can be enabled or disabled based on user needs.\r\n",
    "- **Easy Management**: Extensions can be managed through a user-friendly interface in the Jupyter Notebook dashboard.\r\n",
    "- **Customization**: Allows for customization and configuration of various notebook feaperformance of your code.\r\n",
    "\r\n",
    "## Installation and Setup\r\n",
    "\r\n",
    "To install `jupyter_contrib_nbextensions` and its associated configurator, follow these steps:\r\n",
    "\r\n",
    "1. **Install the Package**:\r\n",
    "   ```bash\r\n",
    "   pip install jupyter_contrib_nbextensions\r\n"
   ]
  },
  {
   "cell_type": "code",
   "execution_count": null,
   "id": "45398421-1ca9-4492-a443-846aec47b4f3",
   "metadata": {},
   "outputs": [],
   "source": []
  }
 ],
 "metadata": {
  "kernelspec": {
   "display_name": "Python 3 (ipykernel)",
   "language": "python",
   "name": "python3"
  },
  "language_info": {
   "codemirror_mode": {
    "name": "ipython",
    "version": 3
   },
   "file_extension": ".py",
   "mimetype": "text/x-python",
   "name": "python",
   "nbconvert_exporter": "python",
   "pygments_lexer": "ipython3",
   "version": "3.12.4"
  }
 },
 "nbformat": 4,
 "nbformat_minor": 5
}
